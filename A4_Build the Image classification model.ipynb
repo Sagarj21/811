{
 "cells": [
  {
   "cell_type": "markdown",
   "metadata": {},
   "source": [
    "# Title: Build the Image classification model\n",
    "Aim: Build the Image classification model by dividing the model into following 4 stages:\n",
    "a)Loading and pre-processing the image data\n",
    "b)Defining the model’s architecture\n",
    "c)Training the model\n",
    "d)Estimating the model’s performance"
   ]
  },
  {
   "cell_type": "code",
   "execution_count": 1,
   "metadata": {
    "id": "Druqn-omF6wu"
   },
   "outputs": [],
   "source": [
    "#importing required packages\n",
    "import tensorflow as tf   ## to create our neural n/w\n",
    "from keras.models import Sequential\n",
    "from keras.layers import Dense, Conv2D, Dropout, Flatten, MaxPooling2D   # dropout-to remove the random neurons #flatten-toconvert input into vector or 1-d input\n",
    "import matplotlib.pyplot as plt  #plotting\n",
    "import numpy as np  #used to show our predicted class"
   ]
  },
  {
   "cell_type": "code",
   "execution_count": 4,
   "metadata": {
    "colab": {
     "base_uri": "https://localhost:8080/"
    },
    "id": "7bpNp1tYGmBj",
    "outputId": "520ce2c6-abb3-4b3d-b6eb-43fcb902de1d"
   },
   "outputs": [
    {
     "name": "stdout",
     "output_type": "stream",
     "text": [
      "Shape of traning : (60000, 28, 28, 1)\n",
      "Shape of testing : (10000, 28, 28, 1)\n"
     ]
    }
   ],
   "source": [
    "#a) Loading and preprocessing the image data\n",
    "\n",
    "mnist = tf.keras.datasets.mnist   #importing MNIST dataset\n",
    "(x_train,y_train),(x_test,y_test)=mnist.load_data()  #spliting the training and testing datasets\n",
    "input_shape=(28,28,1)\n",
    "\n",
    "\n",
    "#Making the values to the decimal points after division\n",
    "x_train=x_train.reshape(x_train.shape[0],28,28,1)\n",
    "x_test=x_test.reshape(x_test.shape[0],28,28,1)\n",
    "\n",
    "\n",
    "x_train=x_train.astype('float32')  # converting datatype to float\n",
    "x_test=x_test.astype('float32')\n",
    "\n",
    "#normalizing the rgd codes by diviidng it to the max RGB value\n",
    "x_train=x_train / 255\n",
    "x_test=x_test / 255\n",
    "\n",
    "print(\"Shape of traning :\",x_train.shape)\n",
    "print(\"Shape of testing :\",x_test.shape)"
   ]
  },
  {
   "cell_type": "code",
   "execution_count": 5,
   "metadata": {
    "colab": {
     "base_uri": "https://localhost:8080/"
    },
    "id": "Q_kWuQ-OK22N",
    "outputId": "877b4afd-7117-489b-e694-394c98abbdee"
   },
   "outputs": [
    {
     "name": "stdout",
     "output_type": "stream",
     "text": [
      "Model: \"sequential_1\"\n",
      "_________________________________________________________________\n",
      " Layer (type)                Output Shape              Param #   \n",
      "=================================================================\n",
      " conv2d_1 (Conv2D)           (None, 26, 26, 28)        280       \n",
      "                                                                 \n",
      " max_pooling2d_1 (MaxPoolin  (None, 13, 13, 28)        0         \n",
      " g2D)                                                            \n",
      "                                                                 \n",
      " flatten_1 (Flatten)         (None, 4732)              0         \n",
      "                                                                 \n",
      " dense_2 (Dense)             (None, 200)               946600    \n",
      "                                                                 \n",
      " dropout_1 (Dropout)         (None, 200)               0         \n",
      "                                                                 \n",
      " dense_3 (Dense)             (None, 10)                2010      \n",
      "                                                                 \n",
      "=================================================================\n",
      "Total params: 948890 (3.62 MB)\n",
      "Trainable params: 948890 (3.62 MB)\n",
      "Non-trainable params: 0 (0.00 Byte)\n",
      "_________________________________________________________________\n"
     ]
    }
   ],
   "source": [
    "#b) Defining the model’s architecture\n",
    "\n",
    "model = Sequential() \n",
    "model.add(Conv2D(28, kernel_size=(3,3), input_shape=input_shape))  # adding convolution layer  ,28-we want 28 ocnv layers,  kernal size-size of conv layer,  input shape-28 28 1 size of data\n",
    "model.add(MaxPooling2D(pool_size=(2,2)))  #pooling size- pooled size\n",
    "model.add(Flatten())  # converting in vector(1d) form to passit to hidden layer\n",
    "model.add(Dense(200, activation=\"relu\"))  #dense- to create a hidden layer\n",
    "model.add(Dropout(0.3))  #to remove some random neurons from hidden layer (0.3 means 30% neurons)\n",
    "model.add(Dense(10, activation=\"softmax\"))  # output 10 neurons\n",
    "\n",
    "model.summary()\n"
   ]
  },
  {
   "cell_type": "code",
   "execution_count": 6,
   "metadata": {
    "colab": {
     "base_uri": "https://localhost:8080/"
    },
    "id": "7ugyizsYQtON",
    "outputId": "3c98b7dc-fab2-4d2d-983f-041c4d38e659"
   },
   "outputs": [
    {
     "name": "stdout",
     "output_type": "stream",
     "text": [
      "Epoch 1/2\n",
      "1875/1875 [==============================] - 33s 17ms/step - loss: 0.2033 - accuracy: 0.9398\n",
      "Epoch 2/2\n",
      "1875/1875 [==============================] - 33s 17ms/step - loss: 0.0832 - accuracy: 0.9742\n"
     ]
    },
    {
     "data": {
      "text/plain": [
       "<keras.src.callbacks.History at 0x26dd8b592b0>"
      ]
     },
     "execution_count": 6,
     "metadata": {},
     "output_type": "execute_result"
    }
   ],
   "source": [
    "#c)Training the model\n",
    "model.compile(optimizer='adam' ,   # adam is a algorithm(optimizer function)\n",
    "              loss='sparse_categorical_crossentropy', # loss calculates dissimilarity\n",
    "              metrics=['accuracy'])\n",
    "model.fit(x_train,y_train,epochs = 2)  # it improves accuracy higher the epoch higher the accuracy"
   ]
  },
  {
   "cell_type": "code",
   "execution_count": 7,
   "metadata": {
    "colab": {
     "base_uri": "https://localhost:8080/"
    },
    "id": "QYYtKav2RzKV",
    "outputId": "5a63150b-e75f-4386-8d24-022ba6ad6467"
   },
   "outputs": [
    {
     "name": "stdout",
     "output_type": "stream",
     "text": [
      "313/313 [==============================] - 1s 4ms/step - loss: 0.0625 - accuracy: 0.9810\n",
      "loss=0.063\n",
      "Accuracy=0.981\n"
     ]
    }
   ],
   "source": [
    "#d)Estimate the models performance\n",
    "\n",
    "test_loss , test_acc = model.evaluate(x_test , y_test)\n",
    "print(\"loss=%.3f\"%test_loss)\n",
    "print(\"Accuracy=%.3f\"%test_acc)"
   ]
  },
  {
   "cell_type": "code",
   "execution_count": 17,
   "metadata": {
    "colab": {
     "base_uri": "https://localhost:8080/",
     "height": 430
    },
    "id": "7L2Q5ckaSyFz",
    "outputId": "450d340f-2d43-41e7-b032-7af691ef7bc4"
   },
   "outputs": [
    {
     "data": {
      "image/png": "[encoded data removed]",
      "text/plain": [
       "<Figure size 640x480 with 1 Axes>"
      ]
     },
     "metadata": {},
     "output_type": "display_data"
    }
   ],
   "source": [
    "#showing the image at the position[] from datasets\n",
    "image=x_train[5]\n",
    "plt.imshow(np.squeeze(image), cmap='gray')\n",
    "plt.show()"
   ]
  },
  {
   "cell_type": "code",
   "execution_count": 18,
   "metadata": {
    "colab": {
     "base_uri": "https://localhost:8080/"
    },
    "id": "1UEbQr9xTK6y",
    "outputId": "9159a27e-ea80-4d64-ee97-95dcd51a2628"
   },
   "outputs": [
    {
     "name": "stdout",
     "output_type": "stream",
     "text": [
      "1/1 [==============================] - 0s 82ms/step\n",
      "Predicted class :{} 2\n"
     ]
    }
   ],
   "source": [
    "#predicting the class of the image\n",
    "image=image.reshape(1, image.shape[0],image.shape[1],image.shape[2])\n",
    "predict_model = model.predict([image])\n",
    "print(\"Predicted class :{}\",format(np.argmax(predict_model)))  #argmax- it selects the class with max probability"
   ]
  }
 ],
 "metadata": {
  "colab": {
   "provenance": []
  },
  "kernelspec": {
   "display_name": "Python 3 (ipykernel)",
   "language": "python",
   "name": "python3"
  },
  "language_info": {
   "codemirror_mode": {
    "name": "ipython",
    "version": 3
   },
   "file_extension": ".py",
   "mimetype": "text/x-python",
   "name": "python",
   "nbconvert_exporter": "python",
   "pygments_lexer": "ipython3",
   "version": "3.8.0"
  }
 },
 "nbformat": 4,
 "nbformat_minor": 1
}
