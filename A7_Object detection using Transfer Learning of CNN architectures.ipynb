{
 "cells": [
  {
   "cell_type": "markdown",
   "id": "983ec67b",
   "metadata": {},
   "source": [
    "# Title : Object detection using Transfer Learning of CNN architectures\n",
    "Aim: Object detection using Transfer Learning of CNN architectures\n",
    "    \n",
    "a. Load in a pre-trained CNN model trained on a large dataset\n",
    "\n",
    "b. Freeze parameters (weights) in model’s lower convolutional layers\n",
    "\n",
    "c. Add custom classifier with several layers of trainable parameters to model\n",
    "\n",
    "d. Train classifier layers on training data available for task\n",
    "\n",
    "e. Fine-tune hyper parameters and unfreeze more layers as needed\n",
    "\n",
    "dataset\n",
    "https://drive.google.com/file/d/1lKQYLe3WrhUtV0V0PLsp47dJhA-tWACj/view?usp=drive_link"
   ]
  },
  {
   "cell_type": "code",
   "execution_count": 1,
   "id": "31c2e651-8075-41a1-b996-30bca14f1627",
   "metadata": {},
   "outputs": [],
   "source": [
    "import tensorflow as tf\n",
    "from tensorflow import keras\n",
    "from tensorflow.keras.applications import VGG16\n",
    "from tensorflow.keras.models import Model\n",
    "from tensorflow.keras.layers import Dense, Flatten  #Dense layer is a fully connected layer (feedforward layer) #Flatten layer is used to convert multi-dimensional data, such as images, into a one-dimensional vector\n",
    "from tensorflow.keras.optimizers import Adam  # Adam optimizer is a popular optimization algorithm used in training deep learning models,\n",
    "from tensorflow.keras.preprocessing.image import ImageDataGenerator #used for image data augmentation rotation, resizing, shearing, flipping, zooming\n",
    "import numpy as np"
   ]
  },
  {
   "cell_type": "markdown",
   "id": "203d03af-e7eb-406f-b9dc-9dad72072a3f",
   "metadata": {},
   "source": [
    "#### Pre processing img data "
   ]
  },
  {
   "cell_type": "code",
   "execution_count": 2,
   "id": "bae4a153-6f00-4265-add9-35904409dd72",
   "metadata": {},
   "outputs": [
    {
     "name": "stdout",
     "output_type": "stream",
     "text": [
      "Found 40079 images belonging to 10 classes.\n",
      "Found 9921 images belonging to 10 classes.\n"
     ]
    }
   ],
   "source": [
    "train_dir = \"Datasets/cifar-10-img/train\"\n",
    "test_dir = \"Datasets/cifar-10-img/test\"\n",
    "\n",
    "train_datagen = ImageDataGenerator(  #Keras utility for data augmentation\n",
    "    rescale=1.0 / 255,  #scales the pixel values of the images in your dataset to be in the range [0, 1].\n",
    ")\n",
    "\n",
    "test_datagen = ImageDataGenerator(\n",
    "    rescale=1.0 / 255,\n",
    ")\n",
    "\n",
    "# here batch_size is the number of images in each batch\n",
    "train_batch_size = 5000\n",
    "train_generator = train_datagen.flow_from_directory( #ImageDataGenerator that generates batches of augmented data from images stored in a directory\n",
    "    train_dir,\n",
    "    target_size=(32, 32),#images will be resized to a 32x32 pixel size\n",
    "    batch_size=train_batch_size,\n",
    "    class_mode='categorical' # specified 'categorical', which is appropriate for multi-class classification tasks\n",
    ")\n",
    "\n",
    "\n",
    "test_batch_size = 1000\n",
    "test_generator = test_datagen.flow_from_directory(\n",
    "    test_dir,\n",
    "    target_size=(32, 32),\n",
    "    batch_size=test_batch_size,\n",
    "    class_mode='categorical'\n",
    ")"
   ]
  },
  {
   "cell_type": "markdown",
   "id": "4609c200-c5fc-4067-b3b3-bd8b7226e27d",
   "metadata": {},
   "source": [
    "#### Selecting only first batch with 5000 images as train and test data"
   ]
  },
  {
   "cell_type": "code",
   "execution_count": 3,
   "id": "b4369f09-67f5-4f91-a6f2-971ed179dea9",
   "metadata": {},
   "outputs": [
    {
     "name": "stdout",
     "output_type": "stream",
     "text": [
      "5000\n",
      "1000\n"
     ]
    }
   ],
   "source": [
    "x_train, y_train =  train_generator[0]\n",
    "x_test, y_test = test_generator[0]\n",
    "\n",
    "print(len(x_train))\n",
    "print(len(x_test))"
   ]
  },
  {
   "cell_type": "markdown",
   "id": "9db56097-894f-44a2-8b54-8241acd0dea9",
   "metadata": {},
   "source": [
    "#### a. Load in a pre-trained CNN model trained on a large dataset"
   ]
  },
  {
   "cell_type": "code",
   "execution_count": 4,
   "id": "3e80ede0-af89-4fd0-b431-191d5f6401d4",
   "metadata": {},
   "outputs": [],
   "source": [
    "# Load VGG16 without top layers  , VGG16 consists of 16 layers, which include 13 convolutional layers and 3 fully connected layers\n",
    "weights_path = \"imagenet\"  #variable contains the path to a file that holds the pre-trained weights for the VGG16 model\n",
    "base_model = VGG16(weights=weights_path, include_top=False, input_shape=(32, 32, 3)) #variable will store the VGG16 model with the specified configuration"
   ]
  },
  {
   "cell_type": "markdown",
   "id": "8dfc0b6a-99ae-4197-aae2-288d54241ce4",
   "metadata": {},
   "source": [
    "#### b. Freeze parameters (weights) in model’s lower convolutional layers"
   ]
  },
  {
   "cell_type": "code",
   "execution_count": 6,
   "id": "b64173b6-f973-416d-95a5-bfb158f9aa11",
   "metadata": {},
   "outputs": [],
   "source": [
    "for layer in base_model.layers:\n",
    "   layer.trainable = False  #Setting the layers to non-trainable means that the weights and parameters of these layers will not be updated during the training of your specific task"
   ]
  },
  {
   "cell_type": "markdown",
   "id": "324ff8f4-4cb4-451e-a72b-3f35ee41f600",
   "metadata": {},
   "source": [
    "#### c. Add custom classifier with several layers of trainable parameters to model"
   ]
  },
  {
   "cell_type": "code",
   "execution_count": 7,
   "id": "e44e9909-36b2-48cb-8470-1e6648a229a2",
   "metadata": {},
   "outputs": [],
   "source": [
    "x = Flatten()(base_model.output)  #This line adds a Flatten layer on top of the output of the base_model\n",
    "x = Dense(256, activation='relu')(x) #This line adds a fully connected layer with 256 neurons and ReLU\n",
    "x = tf.keras.layers.Dropout(0.3)(x) #It creates a dropout layer with a dropout rate of 0.3.\n",
    "x = Dense(256, activation='relu')(x) #This creates a dense layer with 256 neurons and applies ReLU \n",
    "x = tf.keras.layers.Dropout(0.3)(x)#It creates a dropout layer with a dropout rate of 0.3.\n",
    "predictions = Dense(10, activation='softmax')(x)  #fully connected layer with 10 neurons (assuming this is for a classification task with 10 classes) and a softmax activation function is added. This layer produces the output of the model, which represents the predicted class probabilities for the input data.\n",
    "\n",
    "# Create the model\n",
    "model = Model(inputs=base_model.input, outputs=predictions) #This creates a new Keras model where base_model.input specifies the input of the model (the input of the VGG16 base model), and predictions represents the output of the model\n",
    "# Compile the model\n",
    "model.compile(optimizer=\"adam\", loss='categorical_crossentropy', metrics=['accuracy']) #You are specifying the Adam optimizer for training,s specifies the evaluation metric"
   ]
  },
  {
   "cell_type": "markdown",
   "id": "af0aac27-8b92-4f9d-a43a-af5633d440b8",
   "metadata": {},
   "source": [
    "#### d. Train classifier layers on training data available for task"
   ]
  },
  {
   "cell_type": "code",
   "execution_count": 8,
   "id": "3ce936f9-8497-4be8-877b-63d8f7c27885",
   "metadata": {},
   "outputs": [
    {
     "name": "stdout",
     "output_type": "stream",
     "text": [
      "Epoch 1/10\n",
      "79/79 [==============================] - 28s 334ms/step - loss: 1.9523 - accuracy: 0.2888 - val_loss: 1.5625 - val_accuracy: 0.4390\n",
      "Epoch 2/10\n",
      "79/79 [==============================] - 27s 342ms/step - loss: 1.5994 - accuracy: 0.4292 - val_loss: 1.4154 - val_accuracy: 0.4870\n",
      "Epoch 3/10\n",
      "79/79 [==============================] - 28s 355ms/step - loss: 1.4485 - accuracy: 0.4902 - val_loss: 1.3756 - val_accuracy: 0.4960\n",
      "Epoch 4/10\n",
      "79/79 [==============================] - 28s 349ms/step - loss: 1.3747 - accuracy: 0.5142 - val_loss: 1.3308 - val_accuracy: 0.5080\n",
      "Epoch 5/10\n",
      "79/79 [==============================] - 27s 349ms/step - loss: 1.2975 - accuracy: 0.5412 - val_loss: 1.3251 - val_accuracy: 0.5270\n",
      "Epoch 6/10\n",
      "79/79 [==============================] - 27s 348ms/step - loss: 1.2485 - accuracy: 0.5584 - val_loss: 1.3045 - val_accuracy: 0.5320\n",
      "Epoch 7/10\n",
      "79/79 [==============================] - 28s 353ms/step - loss: 1.1807 - accuracy: 0.5704 - val_loss: 1.2889 - val_accuracy: 0.5420\n",
      "Epoch 8/10\n",
      "79/79 [==============================] - 27s 345ms/step - loss: 1.1364 - accuracy: 0.6012 - val_loss: 1.2836 - val_accuracy: 0.5260\n",
      "Epoch 9/10\n",
      "79/79 [==============================] - 28s 359ms/step - loss: 1.0984 - accuracy: 0.6140 - val_loss: 1.3297 - val_accuracy: 0.5260\n",
      "Epoch 10/10\n",
      "79/79 [==============================] - 30s 380ms/step - loss: 1.0532 - accuracy: 0.6270 - val_loss: 1.3026 - val_accuracy: 0.5450\n"
     ]
    },
    {
     "data": {
      "text/plain": [
       "<keras.src.callbacks.History at 0x26cb057d9a0>"
      ]
     },
     "execution_count": 8,
     "metadata": {},
     "output_type": "execute_result"
    }
   ],
   "source": [
    "# Train the model\n",
    "model.fit(x_train, y_train, batch_size=64, epochs=10, validation_data=(x_test, y_test))  #each training epoch, the model's performance will be evaluated"
   ]
  },
  {
   "cell_type": "markdown",
   "id": "521fc40f-4c47-462f-8965-9026bdb98edb",
   "metadata": {},
   "source": [
    "#### e. Fine-tune hyper parameters and unfreeze more layers as needed"
   ]
  },
  {
   "cell_type": "code",
   "execution_count": 9,
   "id": "c1d6efc6-3209-4586-8947-385a0120f861",
   "metadata": {},
   "outputs": [
    {
     "name": "stdout",
     "output_type": "stream",
     "text": [
      "Epoch 1/10\n",
      "79/79 [==============================] - 94s 1s/step - loss: 1.8541 - accuracy: 0.3178 - val_loss: 1.6245 - val_accuracy: 0.4170\n",
      "Epoch 2/10\n",
      "79/79 [==============================] - 93s 1s/step - loss: 1.3206 - accuracy: 0.5326 - val_loss: 1.4945 - val_accuracy: 0.5330\n",
      "Epoch 3/10\n",
      "79/79 [==============================] - 97s 1s/step - loss: 1.0634 - accuracy: 0.6348 - val_loss: 1.2190 - val_accuracy: 0.5830\n",
      "Epoch 4/10\n",
      "79/79 [==============================] - 98s 1s/step - loss: 0.9265 - accuracy: 0.6892 - val_loss: 1.0803 - val_accuracy: 0.6190\n",
      "Epoch 5/10\n",
      "79/79 [==============================] - 96s 1s/step - loss: 0.7634 - accuracy: 0.7442 - val_loss: 1.1436 - val_accuracy: 0.6280\n",
      "Epoch 6/10\n",
      "79/79 [==============================] - 102s 1s/step - loss: 0.6933 - accuracy: 0.7688 - val_loss: 1.1338 - val_accuracy: 0.6380\n",
      "Epoch 7/10\n",
      "79/79 [==============================] - 99s 1s/step - loss: 0.5512 - accuracy: 0.8156 - val_loss: 1.4275 - val_accuracy: 0.6030\n",
      "Epoch 8/10\n",
      "79/79 [==============================] - 101s 1s/step - loss: 0.4941 - accuracy: 0.8342 - val_loss: 1.4019 - val_accuracy: 0.6060\n",
      "Epoch 9/10\n",
      "79/79 [==============================] - 102s 1s/step - loss: 0.4569 - accuracy: 0.8498 - val_loss: 1.3114 - val_accuracy: 0.6250\n",
      "Epoch 10/10\n",
      "79/79 [==============================] - 106s 1s/step - loss: 0.3564 - accuracy: 0.8802 - val_loss: 1.3003 - val_accuracy: 0.6510\n"
     ]
    },
    {
     "data": {
      "text/plain": [
       "<keras.src.callbacks.History at 0x26cc53bc0a0>"
      ]
     },
     "execution_count": 9,
     "metadata": {},
     "output_type": "execute_result"
    }
   ],
   "source": [
    "base_model = VGG16(weights=weights_path, include_top=False, input_shape=(32, 32, 3))\n",
    "# freeze all layers first\n",
    "for layer in base_model.layers:\n",
    "   layer.trainable = False\n",
    "\n",
    "# unfreeze last 4 layers of base model\n",
    "for layer in base_model.layers[len(base_model.layers) - 4:]:\n",
    "   layer.trainable = True\n",
    "\n",
    "# fine-tuning hyper parameters\n",
    "x = Flatten()(base_model.output)\n",
    "x = Dense(256, activation='relu')(x)\n",
    "x = tf.keras.layers.Dropout(0.3)(x)\n",
    "x = Dense(512, activation='relu')(x)\n",
    "x = tf.keras.layers.Dropout(0.3)(x)\n",
    "predictions = Dense(10, activation='softmax')(x)\n",
    "\n",
    "# Create the model\n",
    "model = Model(inputs=base_model.input, outputs=predictions)\n",
    "# Compile the model\n",
    "model.compile(optimizer=Adam(learning_rate=0.001), loss='categorical_crossentropy', metrics=['accuracy'])\n",
    "# training fine tuned model\n",
    "model.fit(x_train, y_train, batch_size=64, epochs=10, validation_data=(x_test, y_test))"
   ]
  },
  {
   "cell_type": "code",
   "execution_count": 10,
   "id": "fc035871-ca9a-4c0e-9204-d999e14c53c8",
   "metadata": {},
   "outputs": [
    {
     "name": "stdout",
     "output_type": "stream",
     "text": [
      "32/32 [==============================] - 5s 137ms/step\n"
     ]
    }
   ],
   "source": [
    "import matplotlib.pyplot as plt\n",
    "predicted_value = model.predict(x_test)  # This line uses your trained model to make predictions on the testing data (x_test"
   ]
  },
  {
   "cell_type": "code",
   "execution_count": 11,
   "id": "3637d2e8-05ea-4e4d-a38b-b2c1ca6c76be",
   "metadata": {},
   "outputs": [],
   "source": [
    "labels = list(test_generator.class_indices.keys())  #This code extracts the class names (labels) by obtaining the keys from the dictionary, and then it converts those keys into a list. This list will contain the class labels you can use for further analysis"
   ]
  },
  {
   "cell_type": "code",
   "execution_count": 12,
   "id": "6d4825f5-8e54-47a9-ab3b-57e55c9d11f4",
   "metadata": {},
   "outputs": [
    {
     "name": "stdout",
     "output_type": "stream",
     "text": [
      "Preditcted:  deer\n",
      "Actual:  deer\n"
     ]
    },
    {
     "data": {
      "image/png": "[encoded data removed]",
      "text/plain": [
       "<Figure size 640x480 with 1 Axes>"
      ]
     },
     "metadata": {},
     "output_type": "display_data"
    }
   ],
   "source": [
    "n = 900#You're selecting a specific index (n) from your testing data\n",
    "plt.imshow(x_test[n]) # line uses Matplotlib to display the image at index n\n",
    "print(\"Preditcted: \",labels[np.argmax(predicted_value[n])])\n",
    "print(\"Actual: \", labels[np.argmax(y_test[n])])  #is used to find the index with the highest predicted value, which corresponds to the predicted class"
   ]
  },
  {
   "cell_type": "code",
   "execution_count": null,
   "id": "bb20eb20",
   "metadata": {},
   "outputs": [],
   "source": []
  }
 ],
 "metadata": {
  "kernelspec": {
   "display_name": "Python 3 (ipykernel)",
   "language": "python",
   "name": "python3"
  },
  "language_info": {
   "codemirror_mode": {
    "name": "ipython",
    "version": 3
   },
   "file_extension": ".py",
   "mimetype": "text/x-python",
   "name": "python",
   "nbconvert_exporter": "python",
   "pygments_lexer": "ipython3",
   "version": "3.8.0"
  }
 },
 "nbformat": 4,
 "nbformat_minor": 5
}
